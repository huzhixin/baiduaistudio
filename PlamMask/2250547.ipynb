{
 "cells": [
  {
   "cell_type": "markdown",
   "metadata": {
    "collapsed": false
   },
   "source": [
    "# 飞桨常规赛：PALM眼底彩照视盘探测与分割-7月第2名方案\n",
    "\n",
    "## 赛题介绍\n",
    "本赛题原型为ISBI2019PALM眼科大赛。 近视已成为全球公共卫生负担。在近视患者中，约35%为高度近视。近视导致眼轴长度的延长，可能引起视网膜和脉络膜的病理改变。随着近视屈光度的增加，高度近视将发展为病理性近视，其特点是病理改变的形成:(1)后极，包括镶嵌型眼底、后葡萄肿、视网膜脉络膜变性等;(2)视盘，包括乳头旁萎缩、倾斜等;(3)近视性黄斑，包括漆裂、福氏斑、CNV等。病理性近视对患者造成不可逆的视力损害。因此，早期诊断和定期随访非常重要。\n",
    "\n",
    "视网膜由黄斑向鼻侧约3mm处有一直径约1.5mm、境界清楚的淡红色圆盘状结构，称为视神经盘，简称视盘。视盘是眼底图像的一个重要特征，对其进行准确、快速地定位与分割对利用眼底图像进行疾病辅助诊断具有重要意义。\n",
    "\n",
    "- $\\color{red}{注意：本次比赛需要选手使用环境：飞桨PaddlePaddle 2.1.0版本}$\n",
    "\n",
    "- $\\color{red}{注意：AI Studio上运行需要使用32G内存的高级版，本地运行同样需要配置较大的内存空间。}$\n",
    "\n",
    "### [点击跳转至赛题页面](https://aistudio.baidu.com/aistudio/competition/detail/87)\n",
    "\n",
    "## 解题思路\n",
    "本文通过PaddleSeg的配置方式使用UNet模型完成该任务。\n",
    "PaddleSeg是基于飞桨PaddlePaddle开发的端到端图像分割开发套件，涵盖了高精度和轻量级等不同方向的大量高质量分割模型。通过模块化的设计，提供了配置化驱动和API调用两种应用方式，帮助开发者更便捷地完成从训练到部署的全流程图像分割应用。\n",
    "![](https://ai-studio-static-online.cdn.bcebos.com/e9d5ad1086a045828a04be3e93148bb918e38ff2405743dd89d4b7e5e6ff05d0)\n",
    "\n",
    "图1 UNet结构图（图片来源：https://github.com/PaddlePaddle/PaddleSeg/blob/release/2.2/docs/models/unet.md）\n",
    "\n",
    "\n",
    "### 配置项 [官方文档](https://github.com/PaddlePaddle/PaddleSeg/blob/release/2.2/docs/design/use/use_cn.md)\n",
    "- $\\color{red}{注意：本文使用自定义数据集，配置文件中train_dataset和val_dataset的属性 type: Dataset。}$\n",
    "----\n",
    "### train_dataset\n",
    "* 训练数据集\n",
    "----\n",
    "### val_dataset\n",
    "* 验证数据集\n",
    "\n",
    "----\n",
    "### batch_size\n",
    "* 单张卡上，每步迭代训练时的数据量。一般来说，你所使用机器的显存越大，可以相应的调高batch_size的值。\n",
    "\n",
    "----\n",
    "### iters\n",
    "* 使用一个 batch 数据对语义分割模型进行一次参数更新的过程称之为一次训练，即一次迭代。iters 即为训练过程中的迭代次数。\n",
    "\n",
    "----\n",
    "### optimizer\n",
    "* 训练优化器\n",
    "\n",
    "----\n",
    "### lr_scheduler\n",
    "* 学习率\n",
    "\n",
    "----\n",
    "### loss\n",
    "* 损失函数\n",
    "\n",
    "----\n",
    "### model\n",
    "* 待训练模型\n",
    "---\n",
    "### export\n",
    "* 模型导出配置"
   ]
  },
  {
   "cell_type": "markdown",
   "metadata": {
    "collapsed": false
   },
   "source": [
    "# 环境初始化\n",
    "\n",
    "#### 主要工作：解压文件，删除无用文件夹，创建训练所需文件夹"
   ]
  },
  {
   "cell_type": "code",
   "execution_count": null,
   "metadata": {
    "collapsed": false
   },
   "outputs": [],
   "source": [
    "# 解压文件\n",
    "!unzip -oq /home/aistudio/data/data101358/常规赛：PALM眼底彩照视盘探测与分割.zip -d /home/aistudio/data/\n",
    "\n",
    "# 删除无用文件夹\n",
    "!rm -rf /home/aistudio/data/__MACOSX/\n",
    "\n",
    "# 解压工具包\n",
    "!rm -rf /home/aistudio/PaddleSeg\n",
    "!unzip -oq /home/aistudio/data/data102868/PaddleSeg.zip -d /home/aistudio\n",
    "\n",
    "\n",
    "# 创建数据集文件夹\n",
    "!rm -rf /home/aistudio/dataset\n",
    "!mkdir /home/aistudio/dataset\n",
    "\n",
    "# 把数据移动到对应的目录\n",
    "!mv /home/aistudio/data/常规赛：PALM眼底彩照视盘探测与分割/Train/Disc_Masks /home/aistudio/dataset/labels\n",
    "\n",
    "# 创建原始文件文件夹\n",
    "!mv /home/aistudio/data/常规赛：PALM眼底彩照视盘探测与分割/Train/fundus_image /home/aistudio/dataset/images\n",
    "\n",
    "# 创建测试文件夹\n",
    "!mv /home/aistudio/data/常规赛：PALM眼底彩照视盘探测与分割/PALM-Testing400-Images /home/aistudio/dataset/test\n",
    "\n",
    "# 删除无用的文件夹\n",
    "!rm -rf /home/aistudio/data/常规赛：PALM眼底彩照视盘探测与分割\n",
    "!rm -rf /home/aistudio/dataset/labels/.DS_Store\n",
    "!rm -rf /home/aistudio/dataset/images/.DS_Store\n",
    "!rm -rf /home/aistudio/dataset/test/.DS_Store"
   ]
  },
  {
   "cell_type": "markdown",
   "metadata": {
    "collapsed": false
   },
   "source": [
    "# 文件初始化\n",
    "\n",
    "#### 主要工作：划分训练集和验证集，生成训练集、验证集、测试集文件列表\n",
    "#### 其中训练集和验证集列表格式：\n",
    "path_of_train_file path_of_label_file_name\n",
    "\n",
    "文件名之间用英文空格分开"
   ]
  },
  {
   "cell_type": "code",
   "execution_count": null,
   "metadata": {
    "collapsed": false
   },
   "outputs": [],
   "source": [
    "%cd /home/aistudio\n",
    "# 划分验证集和训练集 并生成文件列表\n",
    "!python utils/create_train_list.py"
   ]
  },
  {
   "cell_type": "markdown",
   "metadata": {
    "collapsed": false
   },
   "source": [
    "# 处理标注图片\n",
    "#### 主要工作：将标注图片转成黑白图片"
   ]
  },
  {
   "cell_type": "code",
   "execution_count": null,
   "metadata": {
    "collapsed": false
   },
   "outputs": [],
   "source": [
    "# 将标注文件改为黑白标注\n",
    "%cd /home/aistudio\n",
    "!python utils/create_gray_labels.py"
   ]
  },
  {
   "cell_type": "markdown",
   "metadata": {
    "collapsed": false
   },
   "source": [
    "# 安装所需包"
   ]
  },
  {
   "cell_type": "code",
   "execution_count": 1,
   "metadata": {
    "collapsed": false
   },
   "outputs": [],
   "source": [
    "# 安装所需包 去掉输出信息\n",
    "!pip install -qr /home/aistudio/PaddleSeg/requirements.txt"
   ]
  },
  {
   "cell_type": "markdown",
   "metadata": {
    "collapsed": false
   },
   "source": [
    "# 执行训练\n",
    "\n",
    "#### 本文使用配置模式完成训练和预测"
   ]
  },
  {
   "cell_type": "code",
   "execution_count": 13,
   "metadata": {
    "collapsed": false
   },
   "outputs": [],
   "source": [
    "# 执行训练\n",
    "%cd /home/aistudio/PaddleSeg\n",
    "\n",
    "!export CUDA_VISIBLE_DEVICES=0 # 设置1张可用的卡\n",
    "\n",
    "!python train.py \\\n",
    "       --config /home/aistudio/utils/unet.yml \\\n",
    "       --do_eval \\\n",
    "       --use_vdl \\\n",
    "       --save_interval 200 \\\n",
    "       --save_dir output"
   ]
  },
  {
   "cell_type": "markdown",
   "metadata": {
    "collapsed": false
   },
   "source": [
    "# 对测试图片进行预测\n",
    "### PaddleSeg在预测时指定测试集文件路径即可完成该目录下所有测试文件的预测\n",
    "### 参数 save_dir 表示预测文件输出目录"
   ]
  },
  {
   "cell_type": "code",
   "execution_count": 15,
   "metadata": {
    "collapsed": false
   },
   "outputs": [],
   "source": [
    "# 执行预测\n",
    "%cd /home/aistudio/PaddleSeg\n",
    "\n",
    "!python predict.py \\\n",
    "       --config /home/aistudio/utils/unet.yml \\\n",
    "       --model_path output/best_model/model.pdparams\\\n",
    "       --image_path /home/aistudio/dataset/test \\\n",
    "       --save_dir output/result"
   ]
  },
  {
   "cell_type": "markdown",
   "metadata": {
    "collapsed": false
   },
   "source": [
    "# 对文件进行转换\n",
    "### 把预测图片转换为黑白图片"
   ]
  },
  {
   "cell_type": "code",
   "execution_count": 2,
   "metadata": {
    "collapsed": false
   },
   "outputs": [],
   "source": [
    "# 文件转换为黑白图片\n",
    "%cd /home/aistudio/\n",
    "!python utils/resave_predict_images.py"
   ]
  },
  {
   "cell_type": "markdown",
   "metadata": {
    "collapsed": false
   },
   "source": [
    "# 预测文件打包\n",
    "### 将预测结果进行打包提交结果"
   ]
  },
  {
   "cell_type": "code",
   "execution_count": 3,
   "metadata": {
    "collapsed": false
   },
   "outputs": [],
   "source": [
    "# 文件打包\n",
    "%cd /home/aistudio/dataset/\n",
    "!cp -r /home/aistudio/PaddleSeg/output/result/pseudo_color_prediction/ ./predicts\n",
    "!zip -r pseudo_color_prediction.zip ./predicts"
   ]
  },
  {
   "cell_type": "markdown",
   "metadata": {
    "collapsed": false
   },
   "source": [
    "# 下一步计划及作者介绍\n",
    "\n",
    "1、修改配置参数对比预测效果\n",
    "\n",
    "2、测试不用的模型对比预测结果\n",
    "\n",
    "3、试用数据集创建脚本进一步提高自动化程度\n",
    "\n",
    "4、测试接口开发方式\n",
    "\n",
    "# 作者介绍\n",
    "\n",
    "#### 胡志新（xiaohuAiTec） 中国青年报社技术开发\n",
    "\n",
    "#### 研究方向：主要研究自然语言处理，偶尔关注计算机视觉\n",
    "\n",
    "\n",
    "#### 我在AI Studio上获得黄金等级，点亮4个徽章，来互关呀~\n",
    "\n",
    "#### [https://aistudio.baidu.com/aistudio/personalcenter/thirdview/638](https://aistudio.baidu.com/aistudio/personalcenter/thirdview/638)\n",
    "\n",
    "\n",
    "![](https://ai-studio-static-online.cdn.bcebos.com/f209e0c2681b4e06b3c6d66844f10a85c168062d3dc04859a6fe9a2acc57a150)\n"
   ]
  },
  {
   "cell_type": "code",
   "execution_count": null,
   "metadata": {
    "collapsed": false
   },
   "outputs": [],
   "source": []
  }
 ],
 "metadata": {
  "kernelspec": {
   "display_name": "PaddlePaddle 2.1.0 (Python 3.5)",
   "language": "python",
   "name": "py35-paddle1.2.0"
  },
  "language_info": {
   "codemirror_mode": {
    "name": "ipython",
    "version": 3
   },
   "file_extension": ".py",
   "mimetype": "text/x-python",
   "name": "python",
   "nbconvert_exporter": "python",
   "pygments_lexer": "ipython3",
   "version": "3.7.4"
  }
 },
 "nbformat": 4,
 "nbformat_minor": 1
}
